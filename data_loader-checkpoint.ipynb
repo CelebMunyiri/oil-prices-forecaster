{
 "cells": [
  {
   "cell_type": "code",
   "execution_count": 3,
   "id": "306a4599",
   "metadata": {},
   "outputs": [
    {
     "ename": "ModuleNotFoundError",
     "evalue": "No module named 'data_loader'",
     "output_type": "error",
     "traceback": [
      "\u001b[1;31m---------------------------------------------------------------------------\u001b[0m",
      "\u001b[1;31mModuleNotFoundError\u001b[0m                       Traceback (most recent call last)",
      "\u001b[1;32m~\\AppData\\Local\\Temp\\ipykernel_5540\\3095738909.py\u001b[0m in \u001b[0;36m<module>\u001b[1;34m\u001b[0m\n\u001b[1;32m----> 1\u001b[1;33m \u001b[1;32mfrom\u001b[0m \u001b[0mdata_loader\u001b[0m \u001b[1;32mimport\u001b[0m \u001b[0mload_oil_prices\u001b[0m\u001b[1;33m,\u001b[0m \u001b[0mload_economic_indicators\u001b[0m\u001b[1;33m,\u001b[0m \u001b[0mload_geopolitical_events\u001b[0m\u001b[1;33m\u001b[0m\u001b[1;33m\u001b[0m\u001b[0m\n\u001b[0m\u001b[0;32m      2\u001b[0m \u001b[1;32mfrom\u001b[0m \u001b[0mtime_series_model\u001b[0m \u001b[1;32mimport\u001b[0m \u001b[0mpreprocess_data\u001b[0m\u001b[1;33m,\u001b[0m \u001b[0mrun_linear_regression\u001b[0m\u001b[1;33m,\u001b[0m \u001b[0mrun_time_series_decomposition\u001b[0m\u001b[1;33m\u001b[0m\u001b[1;33m\u001b[0m\u001b[0m\n\u001b[0;32m      3\u001b[0m \u001b[1;32mimport\u001b[0m \u001b[0mmatplotlib\u001b[0m\u001b[1;33m.\u001b[0m\u001b[0mpyplot\u001b[0m \u001b[1;32mas\u001b[0m \u001b[0mplt\u001b[0m\u001b[1;33m\u001b[0m\u001b[1;33m\u001b[0m\u001b[0m\n\u001b[0;32m      4\u001b[0m \u001b[1;33m\u001b[0m\u001b[0m\n\u001b[0;32m      5\u001b[0m \u001b[1;31m# Load the data\u001b[0m\u001b[1;33m\u001b[0m\u001b[1;33m\u001b[0m\u001b[0m\n",
      "\u001b[1;31mModuleNotFoundError\u001b[0m: No module named 'data_loader'"
     ]
    }
   ],
   "source": [
    "from data_loader import load_oil_prices, load_economic_indicators, load_geopolitical_events\n",
    "from time_series_model import preprocess_data, run_linear_regression, run_time_series_decomposition\n",
    "import matplotlib.pyplot as plt\n",
    "\n",
    "# Load the data\n",
    "oil_prices_df = load_oil_prices('./oil_prices.csv')\n",
    "economic_indicators_df = load_economic_indicators('./economic_indicators.csv')\n",
    "geopolitical_events_df = load_geopolitical_events('./geopolitical_events.csv')\n",
    "\n",
    "# Preprocess the data\n",
    "X, y, feature_names = preprocess_data(oil_prices_df, economic_indicators_df, geopolitical_events_df)\n",
    "\n",
    "# Train a linear regression model\n",
    "model = run_linear_regression(X, y)\n",
    "\n",
    "# Visualize the feature importances\n",
    "importances = model.coef_[0]\n",
    "plt.bar(feature_names, importances)\n",
    "plt.xticks(rotation=90)\n",
    "plt.title('Feature Importances')\n",
    "plt.show()\n",
    "\n",
    "# Run a time series decomposition on the historical oil prices\n",
    "seasonal, trend, residual = run_time_series_decomposition(oil_prices_df)\n",
    "\n",
    "# Visualize the decomposition\n",
    "plt.subplot(411)\n",
    "plt.plot(oil_prices_df, label='Original')\n",
    "plt.legend(loc='best')\n",
    "plt.subplot(412)\n",
    "plt.plot(trend, label='Trend')\n",
    "plt.legend(loc='best')\n",
    "plt.subplot(413)\n",
    "plt.plot(seasonal, label='Seasonality')\n",
    "plt.legend(loc='best')\n",
    "plt.subplot(414)\n",
    "plt.plot(residual, label='Residuals')\n",
    "plt.legend(loc='best')\n",
    "plt.tight_layout()\n",
    "plt.show()\n"
   ]
  },
  {
   "cell_type": "code",
   "execution_count": 4,
   "id": "619c08cd",
   "metadata": {},
   "outputs": [],
   "source": [
    "import pandas as pd\n",
    "\n",
    "def load_data():\n",
    "    \"\"\"\n",
    "    Load the historical oil prices, economic indicators, and geopolitical events data.\n",
    "    \"\"\"\n",
    "    # Load the historical oil price data\n",
    "    oil_prices_df = pd.read_csv('historical_oil_prices.csv', parse_dates=['date'])\n",
    "    \n",
    "    # Load the economic indicators data\n",
    "    economic_indicators_df = pd.read_csv('economic_indicators.csv', parse_dates=['date'])\n",
    "    \n",
    "    # Load the geopolitical events data\n",
    "    geopolitical_events_df = pd.read_csv('geopolitical_events.csv', parse_dates=['date'])\n",
    "    \n",
    "    return oil_prices_df, economic_indicators_df, geopolitical_events_df\n"
   ]
  },
  {
   "cell_type": "code",
   "execution_count": null,
   "id": "7fcf0fdf",
   "metadata": {},
   "outputs": [],
   "source": []
  }
 ],
 "metadata": {
  "kernelspec": {
   "display_name": "Python 3 (ipykernel)",
   "language": "python",
   "name": "python3"
  },
  "language_info": {
   "codemirror_mode": {
    "name": "ipython",
    "version": 3
   },
   "file_extension": ".py",
   "mimetype": "text/x-python",
   "name": "python",
   "nbconvert_exporter": "python",
   "pygments_lexer": "ipython3",
   "version": "3.9.13"
  }
 },
 "nbformat": 4,
 "nbformat_minor": 5
}
